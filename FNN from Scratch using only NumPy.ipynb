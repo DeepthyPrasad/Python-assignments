{
  "cells": [
    {
      "attachments": {},
      "cell_type": "markdown",
      "metadata": {
        "id": "vA_Nm4gM4oX9"
      },
      "source": [
        "# FNN from Scratch using only NumPy"
      ]
    },
    {
      "attachments": {},
      "cell_type": "markdown",
      "metadata": {
        "id": "e7vPaIoU4pqD"
      },
      "source": [
        "the neural network algorithm by creating the model from scratch only with NumPy. You will learn how forward/backpropagation and weight normalization/activation of the simple single-layer neural network work. At the same time, we will continue to practice NumPy. This time we will use the famous MNIST dataset, and you will need to compare the result under different normalization/activation settings of the same architecture."
      ]
    },
    {
      "cell_type": "markdown",
      "metadata": {
        "id": "qtWBHOcoqnKH"
      },
      "source": [
        "## 1. Data preprocessing"
      ]
    },
    {
      "cell_type": "code",
      "execution_count": 1,
      "metadata": {
        "id": "VA351vjdly0R"
      },
      "outputs": [],
      "source": [
        "import numpy as np\n",
        "import matplotlib.pyplot as plt\n",
        "from sklearn.datasets import fetch_openml\n",
        "from sklearn.model_selection import train_test_split, RandomizedSearchCV\n",
        "from sklearn.base import BaseEstimator, TransformerMixin\n",
        "from sklearn.pipeline import Pipeline"
      ]
    },
    {
      "cell_type": "markdown",
      "metadata": {
        "id": "nCm_Zo2W8Q22"
      },
      "source": [
        "The MNIST dataset was constructed from two datasets of the US National Institute\n",
        "of Standards and Technology (NIST). The training dataset consists of handwritten\n",
        "digits from 250 different people, 50 percent high school students and 50 percent\n",
        "employees from the Census Bureau. Note that the test dataset contains handwritten digits from different people following the same split."
      ]
    },
    {
      "cell_type": "markdown",
      "metadata": {
        "id": "aPqJ7jTk7aaG"
      },
      "source": [
        "![alt text](https://dezyre.gumlet.net/images/Exploring+MNIST+Dataset+using+PyTorch+to+Train+an+MLP/MNIST+Dataset.png?w=900&dpr=1.0)"
      ]
    },
    {
      "cell_type": "markdown",
      "metadata": {
        "id": "V29SZpPn8S69"
      },
      "source": [
        "This MNIST dataset can be directly downloaded using scikit-learn."
      ]
    },
    {
      "cell_type": "code",
      "execution_count": 2,
      "metadata": {
        "id": "CmAMpQXwdq4t"
      },
      "outputs": [],
      "source": [
        "X, y = fetch_openml(\"mnist_784\", version=1, return_X_y=True, as_frame=False)"
      ]
    },
    {
      "cell_type": "markdown",
      "metadata": {
        "id": "UGUngFc88XsU"
      },
      "source": [
        "It has 70,000 different handwriting instances. It usually has 60,000 instances as a training set and the remaining ones as a test set, but scikit-learn loads it as a whole. So we may need to divide it into two sets ourselves."
      ]
    },
    {
      "cell_type": "code",
      "execution_count": 3,
      "metadata": {},
      "outputs": [
        {
          "data": {
            "text/plain": [
              "(70000, 784)"
            ]
          },
          "execution_count": 3,
          "metadata": {},
          "output_type": "execute_result"
        }
      ],
      "source": [
        "X.shape"
      ]
    },
    {
      "cell_type": "code",
      "execution_count": 4,
      "metadata": {
        "colab": {
          "base_uri": "https://localhost:8080/"
        },
        "id": "gVuTqRrtlb44",
        "outputId": "16ab1435-eaf3-4267-bff3-0293cd49443a"
      },
      "outputs": [
        {
          "data": {
            "text/plain": [
              "((70000, 784), (70000,))"
            ]
          },
          "execution_count": 4,
          "metadata": {},
          "output_type": "execute_result"
        }
      ],
      "source": [
        "X.shape, y.shape"
      ]
    },
    {
      "cell_type": "markdown",
      "metadata": {
        "id": "kILkvez98bVl"
      },
      "source": [
        "We can also check the class distribution - Last time, we dealt with imbalanced data."
      ]
    },
    {
      "cell_type": "code",
      "execution_count": 5,
      "metadata": {
        "colab": {
          "base_uri": "https://localhost:8080/",
          "height": 282
        },
        "id": "YNAjbM-Z8ixF",
        "outputId": "9adb6cf3-0351-436d-99c5-bed9f75d4cbe"
      },
      "outputs": [
        {
          "data": {
            "text/plain": [
              "<BarContainer object of 10 artists>"
            ]
          },
          "execution_count": 5,
          "metadata": {},
          "output_type": "execute_result"
        },
        {
          "data": {
            "image/png": "[encoded data removed]",
            "text/plain": [
              "<Figure size 432x288 with 1 Axes>"
            ]
          },
          "metadata": {
            "needs_background": "light"
          },
          "output_type": "display_data"
        }
      ],
      "source": [
        "plt.bar(np.unique(y, return_counts = True)[0], np.unique(y, return_counts = True)[1])"
      ]
    },
    {
      "cell_type": "markdown",
      "metadata": {
        "id": "KEc2na5f9tRg"
      },
      "source": [
        "You may also need to apply normalization for better performance. Since it is clear that its maximum value is 255, we can simply normalize it by dividing the whole value by 255. You can use NumPy's broadcasting to divide the matrix by one scalar value. It is also possible to further standardize it to have a centeralized mean, but it's optional. \n",
        "- Apply normalization to X to have the range [0, 1]"
      ]
    },
    {
      "cell_type": "code",
      "execution_count": 6,
      "metadata": {
        "id": "GzXvdYtlmNqi"
      },
      "outputs": [],
      "source": [
        "X_normalized = X / 255.0   # CHANGE IT"
      ]
    },
    {
      "cell_type": "markdown",
      "metadata": {
        "id": "zmmuNtw2d8dX"
      },
      "source": [
        "If you take a look at `y`, it has string labels! It might be disturbing when we need to handle them later, so let's also convert them to an integer form."
      ]
    },
    {
      "cell_type": "code",
      "execution_count": 7,
      "metadata": {
        "id": "vfx0EL0wmoyU"
      },
      "outputs": [],
      "source": [
        "y_integer = y.astype(int) # CHANGE IT"
      ]
    },
    {
      "cell_type": "markdown",
      "metadata": {
        "id": "TqeW4C00l5se"
      },
      "source": [
        "Those will be our simple preprocessing modules! Next we will split the dataset into two parts using scikit-learn's `train_test_split` method.\n",
        "- Use scikit-learn's `train_test_split` to create training and test sets.\n",
        "- Set **train_size** = 60,000 **test_size** = 10,000.\n",
        "- Enable stratification.\n",
        "- use `X_normalized` and `y_integer`."
      ]
    },
    {
      "cell_type": "code",
      "execution_count": 8,
      "metadata": {
        "id": "SiERfT0gddu1"
      },
      "outputs": [],
      "source": [
        "X_train, X_test, y_train, y_test = train_test_split(X_normalized, y_integer, test_size=0.142857,stratify=y)    # CHANGE IT"
      ]
    },
    {
      "cell_type": "markdown",
      "metadata": {
        "id": "EMldZza-faxL"
      },
      "source": [
        "Here you can check some of the instances that we have."
      ]
    },
    {
      "cell_type": "code",
      "execution_count": 9,
      "metadata": {
        "colab": {
          "base_uri": "https://localhost:8080/",
          "height": 224
        },
        "id": "TzRs98dodeAF",
        "outputId": "44fd41d2-20e1-43b1-ad0f-e4474dfc5d12"
      },
      "outputs": [
        {
          "data": {
            "image/png": "[encoded data removed]",
            "text/plain": [
              "<Figure size 432x288 with 10 Axes>"
            ]
          },
          "metadata": {},
          "output_type": "display_data"
        }
      ],
      "source": [
        "fig, ax = plt.subplots(nrows=2, ncols=5, sharex=True, sharey=True)\n",
        "ax = ax.flatten()\n",
        "for i in range(10):\n",
        "  img = X_train[y_train == i][0].reshape(28, 28)\n",
        "  ax[i].imshow(img, cmap='Greys')\n",
        "ax[0].set_xticks([])\n",
        "ax[0].set_yticks([])\n",
        "plt.tight_layout()\n",
        "plt.show()"
      ]
    },
    {
      "cell_type": "markdown",
      "metadata": {
        "id": "baT1IBRFqrBJ"
      },
      "source": [
        "## 2. Helper functions"
      ]
    },
    {
      "cell_type": "markdown",
      "metadata": {
        "id": "NH85Qfu6nbIK"
      },
      "source": [
        "We will develop it with a class representation to use scikit-learn's pipeline. This means we might need to develop `fit` and `transform` methods inside the class. Before creating the class structure, let's create some helper functions."
      ]
    },
    {
      "cell_type": "markdown",
      "metadata": {
        "id": "tVROBu9_py1h"
      },
      "source": [
        "First, we need to fix the labels, which are now in a sparse form, to have a one-hot encoded form for better computation using NumPy's vectorization. Let's create a function that receives a label vector and transform it into a one-hot encoded label matrix.\n",
        "\n",
        "- Complete the `one_hot` function."
      ]
    },
    {
      "cell_type": "code",
      "execution_count": 10,
      "metadata": {
        "id": "msvnKGsR0yUS"
      },
      "outputs": [],
      "source": [
        "def one_hot(y):\n",
        "  \"\"\"\n",
        "  Input:\n",
        "    - y : set of labels\n",
        "\n",
        "  Output:\n",
        "    - onehot: a one-hot-encoded array\n",
        "\n",
        "  This function creates an one-hot encoded representation of the labels.\n",
        "  This means that you will have a set of binary columns indicading each possible class.\n",
        "\n",
        "  You have to develop this one hot encoding strategy without using Python for loop \n",
        "  \"\"\"\n",
        "  m = y.shape[0]\n",
        "  n = np.unique(y).shape[0] \n",
        "  out = np.zeros((m, n))\n",
        "  out[np.arange(m), y] = 1\n",
        "\n",
        "  return out      # CHANGE IT\n"
      ]
    },
    {
      "cell_type": "markdown",
      "metadata": {
        "id": "5dAPaf1708Bs"
      },
      "source": [
        "The expected outcome of the one-hot encoding is as follows:"
      ]
    },
    {
      "cell_type": "code",
      "execution_count": 11,
      "metadata": {
        "colab": {
          "base_uri": "https://localhost:8080/"
        },
        "id": "sGFbZ_tN00WK",
        "outputId": "5f95af4b-c0f8-4ca3-9096-5c38bc48f4df"
      },
      "outputs": [
        {
          "data": {
            "text/plain": [
              "array([[0., 1., 0., 0.],\n",
              "       [1., 0., 0., 0.],\n",
              "       [0., 0., 1., 0.],\n",
              "       [0., 0., 0., 1.]])"
            ]
          },
          "execution_count": 11,
          "metadata": {},
          "output_type": "execute_result"
        }
      ],
      "source": [
        "one_hot(np.array([1,0,2,3]))"
      ]
    },
    {
      "cell_type": "markdown",
      "metadata": {
        "id": "7niKihIdpYa5"
      },
      "source": [
        "Next we may also need a sigmoid function for the output values as we are dealing with a classification problem. Sigmoid can be represented as follows:\n",
        "\n",
        "$$ h_ \\theta (x) =  \\frac{\\mathrm{1} }{\\mathrm{1} + e^{-x} }  $$ \n",
        "\n",
        "\n",
        "- Complete the sigmoid function below that supports both vectors and scalars."
      ]
    },
    {
      "cell_type": "code",
      "execution_count": 12,
      "metadata": {
        "id": "hFSCiidT1Drz"
      },
      "outputs": [],
      "source": [
        "def sigmoid(x):\n",
        "  \"\"\"\n",
        "  Input:\n",
        "    - z: input vector or scalar value\n",
        "\n",
        "  Output:\n",
        "    - sigmoid: output sigmoid-transformed vector or scalar value\n",
        "\n",
        "  Calculate the sigmoid value of the input.\n",
        "  \"\"\"\n",
        "  # x = np.clip(x, -250, 250)\n",
        "  np.seterr( over='ignore' )    #added to ignore the overflow error due to the value of x\n",
        "  out = 1 / (1 + np.exp(-x))\n",
        "\n",
        "  return  out    # CHANGE IT"
      ]
    },
    {
      "cell_type": "markdown",
      "metadata": {
        "id": "Xlugwi8r0O-H"
      },
      "source": [
        "The expected result of the sigmoid function is as follows:"
      ]
    },
    {
      "cell_type": "code",
      "execution_count": 13,
      "metadata": {
        "colab": {
          "base_uri": "https://localhost:8080/"
        },
        "id": "3fJNnW22qMQ0",
        "outputId": "415e63df-bb52-4e9c-9d44-09c14a5fe412"
      },
      "outputs": [
        {
          "data": {
            "text/plain": [
              "array([1. , 0. , 0.5])"
            ]
          },
          "execution_count": 13,
          "metadata": {},
          "output_type": "execute_result"
        }
      ],
      "source": [
        "sigmoid(np.array([np.inf, -np.inf, 0]))"
      ]
    },
    {
      "cell_type": "markdown",
      "metadata": {
        "id": "dnfdCK6Fqtls"
      },
      "source": [
        "## 3. Our FCN classifier with the class structure"
      ]
    },
    {
      "cell_type": "markdown",
      "metadata": {
        "id": "Sn2YtPQk0pXK"
      },
      "source": [
        "Now it's time to create our neural network model from scratch! We will eventually integrate everything into scikit-learn's pipeline, so it's important to have an appropriate class structure. To do this, you may need to extend `BaseEstimator` and `TransformerMixin` to make scikit-learn recognize that our class is a valid classifier.\n",
        "\n",
        "We are going to develop a neural network with one layer for simplicity. That means we will have two different sets of weights.\n",
        "\n",
        "- First layer: [input size (number of features), hidden layer size]\n",
        "- Second layer: [hidden layer size, output size (number of classes)]\n",
        "\n",
        "In our class structure `FullyConnectedNetwork`, we will develop five different methods as follows:\n",
        " - `compile`: Given parameters, we will initialize weight and bias values needed for our neural network model.\n",
        "   - Here, you will initialize bias and weights based on chosen initialization technique.\n",
        "        - We will have three different options: normal, Xavier, and he\n",
        "        - Each technique initializes the weight using the normal distribution but different standard deviation.\n",
        "          - Normal: \n",
        "$ \\mu = 0, \\sigma = 0.1 $\n",
        "          - Xavier: \n",
        "$ \\mu = 0, \\sigma = \\sqrt{\\frac{2}{n_{in} + n_{out}}}$\n",
        "          - He:\n",
        "$ \\mu = 0, \\sigma = \\sqrt{\\frac{2}{n_{in}}}$\n",
        " - `forward`: Perform a forward propagation\n",
        " - `back_propagation`: Perform a back propagation\n",
        "    - You will only need to finish some part of it.\n",
        "      - Weight and bias update\n",
        "      - Derivative of the sigmoid function\n",
        "        - $σ(x)=σ(x)(1−σ(x))$.\n",
        "\n",
        " - `fit`: Run the whole fitting process (forward and backpropagation for each batch)\n",
        " - `cost`: Calculate the cost (cross-entropy) together with the elastic net (l1/l2)\n",
        "   - cross-entropy loss can be calculated as follows:\n",
        " - `predict`: With a trained model, perform a prediction of unseen data by running the forward propagation with the trained weight and bias.\n",
        " - `evaluate`: With trained weight and bias, perform a prediction of test data and calculate the performance metric (in our case, those are training and validation accuracy scores).\n",
        "\n",
        "**This exercise is based on Chapter 12 of the coursebook Python Machine Learning with some modification and additional tasks - so please note that the structure and requirements are not the same.**\n",
        "\n",
        "**You are free to check out the coursebook for reference. However, to solve the tasks, you should understand the logic clearly.**"
      ]
    },
    {
      "cell_type": "code",
      "execution_count": 14,
      "metadata": {
        "id": "UxEdUv9hmiTd"
      },
      "outputs": [],
      "source": [
        "class FullyConnectedNetwork(BaseEstimator, TransformerMixin):\n",
        "    def __init__(self, n_hidden=30, l2=0., l1=0., epochs=100, eta=0.001, validation_rate = 0.3,\n",
        "                 shuffle=True, batch_size=1, init_technique = \"normal\", seed=None, debug=True):\n",
        "\n",
        "        \"\"\"\n",
        "        We receive the following parameters to construct and test the model:\n",
        "\n",
        "        Input:\n",
        "          - n_hidden: Number of hidden nodes.\n",
        "          - l2: Lambda value for L2-regularization.\n",
        "          - epochs: Number of passes over the training set.\n",
        "          - eta: Learning rate.\n",
        "          - shuffle: Enabling shuffling option of the dataset every epoch.\n",
        "          - batch_size: Number of training examples per batch.\n",
        "          - seed: Random seed for initializing weights and shuffling.\n",
        "        \"\"\"\n",
        "        self.seed = seed\n",
        "        self.random = np.random.RandomState(self.seed)\n",
        "        self.n_hidden = n_hidden\n",
        "        self.l2 = l2\n",
        "        self.l1 = l1\n",
        "        self.epochs = epochs\n",
        "        self.eta = eta\n",
        "        self.validation_rate = validation_rate\n",
        "        self.shuffle = shuffle\n",
        "        self.batch_size = batch_size\n",
        "        self.debug = debug\n",
        "        self.init_technique = init_technique\n",
        "\n",
        "    def compile(self, n_features, n_outputs):\n",
        "        \"\"\"\n",
        "        Initializing the weights of the model\n",
        "\n",
        "        - Here you will initialize bias and weights based on chosen initialization technique.\n",
        "        - We will have three different options: normal, xavier, and he\n",
        "        - Each technique initializes the weight using the normal distribution but different standard deviation.\n",
        "        - Use self.init_technique to check the chosen technique and use self.random to perform the sampling.\n",
        "\n",
        "        Input:\n",
        "          - n_features: input size of the network\n",
        "          - n_outputs: output size of the network\n",
        "          - Unit size of the layer is given as self.n_hidden\n",
        "\n",
        "        Steps:\n",
        "          1. Create lists self.W and self.B.\n",
        "          2. Set mean and standard deviation for different initialization technique.\n",
        "          3. Create weights and bias for the linkage between inputs and the a layer.\n",
        "            - Weight should have the size [n_features, self.n_hidden].\n",
        "            - Bias should have the size [self.n_hidden].\n",
        "            - Weight initialization should be applied to the weights only.\n",
        "            - Bias should be initizalied by zeros.\n",
        "          4. Create weights and bias for the linkage between layer and outputs.\n",
        "            - Weight should have the size [self.n_hidden, n_outputs].\n",
        "            - Bias should have the size [n_outputs].\n",
        "            - Weight initialization should be applied to the weights only.\n",
        "            - Bias should be initizalied by zeros.\n",
        "          5. Save the weights to self.W and biases to self.B.\n",
        "\n",
        "        \"\"\"\n",
        "\n",
        "        self.B = []\n",
        "        self.W = []\n",
        "\n",
        "        if (self.init_technique == 'normal'):\n",
        "          mean = 0.0\n",
        "          std = 0.1\n",
        "        elif(self.init_technique == 'xavier'):\n",
        "          mean = 0.0\n",
        "          std = np.sqrt(2 / (n_features + n_outputs))\n",
        "        elif(self.init_technique == 'he'):\n",
        "          mean = 0.0\n",
        "          std = np.sqrt(2 / n_features)\n",
        "        \n",
        "\n",
        "        # 1. Creating weights and bias for input -> hidden\n",
        "        # Use specific initialization techniques for weights\n",
        "        # Weights should have the size (n_features, self.n_hidden)\n",
        "        # Use np.zeros for bias with the size 'self.n_hidden'\n",
        "\n",
        "        b_h = np.zeros(self.n_hidden)       # CHANGE IT\n",
        "        w_h = np.random.normal(loc=mean, scale=std, size=(n_features, self.n_hidden))      # CHANGE IT\n",
        "\n",
        "        # 2. Append bias to self.B and weights to self.W\n",
        "        self.B.append(b_h)\n",
        "        self.W.append(w_h)\n",
        "\n",
        "        # 3. Creating weights and bias for hidden -> output\n",
        "        # Use specific initialization techniques for weights\n",
        "        # Weights should have the size (self.n_hidden, n_outputs)\n",
        "        # Use np.zeros for bias with the size 'n_outputs'\n",
        "\n",
        "        b_out = np.zeros(n_outputs)                                             # CHANGE IT\n",
        "        w_out = np.random.normal(loc=mean, scale=std, size=(self.n_hidden, n_outputs))      # CHANGE IT\n",
        "\n",
        "        # 4. Append bias to self.B and weights to self.W\n",
        "        self.B.append(b_out)\n",
        "        self.W.append(w_out)\n",
        "\n",
        "\n",
        "    def forward(self, X):\n",
        "        \"\"\"\n",
        "        Given the dataset X, compute forward propagation step with the weights and bias saved in the list.\n",
        "        This process eventually outputs ten numbers in our case as we have ten outputs.\n",
        "        Forward propagation is performed by multiple chained dot products of inputs and weights.\n",
        "        \n",
        "        Input:\n",
        "          - X: features\n",
        "        \n",
        "        Output:\n",
        "          - Z: Result of dot product of the weights and the previous output for each phase\n",
        "          - A: A list that contains sigmoided values of A\n",
        "        Steps:\n",
        "          1. Create two lists Z and A.\n",
        "          2. Take a dot product of X and the first weight self.W[0] - save the result into Z\n",
        "          3. Apply sigmoid function to the first Z - save the result into A\n",
        "          4. Take a dot product of A and the second weight self.W[1] - save the result into Z\n",
        "          5. Return Z and A\n",
        "        \"\"\"\n",
        "\n",
        "        Z = []\n",
        "        A = []\n",
        "\n",
        "        # Step 1: net input of hidden layer\n",
        "        # - take a dot product of the input features and the initial weights\n",
        "        # - add the outcome to list Z\n",
        "        s_h = np.dot(X,self.W[0]) + self.B[0]\n",
        "        Z.append(s_h)       # CHANGE IT\n",
        "\n",
        "        # Step 2: activation of hidden layer\n",
        "        # - apply the sigmoid function to the dot producted outcome\n",
        "        # - add the outcome to list A\n",
        "        sig_h = sigmoid(Z[0])\n",
        "        A.append(sig_h)       # CHANGE IT\n",
        "\n",
        "        # Step 3: net input of output layer\n",
        "        # - take a dot product of the intermediate features and the weights of the output layer\n",
        "        # - add the outcome to list Z\n",
        "        s_o = np.dot(A[0],self.W[1]) + self.B[1]\n",
        "        Z.append(s_o)         # CHANGE IT\n",
        "\n",
        "        # Step 4: activation output layer\n",
        "        # - apply the sigmoid function to the dot producted outcome\n",
        "        # - add the outcome to list A\n",
        "        sig_o = sigmoid(Z[1])\n",
        "        A.append(sig_o)       # CHANGE IT\n",
        "\n",
        "        return Z, A\n",
        "\n",
        "    def predict(self, X):\n",
        "        \"\"\"\n",
        "        \n",
        "        Predict class labels by performing forward propagation.\n",
        "\n",
        "        Input: \n",
        "          - X: feature matrix\n",
        "        Output:\n",
        "          - y_pred: Predicted class labels for all data instances.\n",
        "\n",
        "        Steps:\n",
        "          1. Run forward proparation on X and get Z, a.\n",
        "          2. Calculate y_pred by using the output (A[-1]) and with np.argmax\n",
        "            - You have to choose the index of the one with the highest value\n",
        "          3. Return the prediction. You can perform the operation once if you use NumPy's vectorization feature.\n",
        "\n",
        "        \"\"\"\n",
        "\n",
        "        Z, A = self.forward(X)\n",
        "        y_pred = np.argmax(A[-1],axis=1)\n",
        "\n",
        "        return y_pred    # CHANGE IT\n",
        "\n",
        "    def cost(self, y_truth, y_pred):\n",
        "        \"\"\"\n",
        "        \n",
        "        This function computes the cost for the classification task.\n",
        "        We will also apply Elastic net (combination of l1 and l2)\n",
        "\n",
        "        Input:\n",
        "          - y_truth: \"one-hot encoded\" class labels.\n",
        "          - y_pred: Activation of the output layer (= output of the forward propagation function)\n",
        "          - the weights for l1 and l2 are saved into self.l1 and self.l2\n",
        "        \n",
        "        Output:\n",
        "          - cost: Regularized cost\n",
        "\n",
        "        Steps:\n",
        "          1. Calculate the cross entropy between the truth and predicted values.\n",
        "          2. Add l1 and l2 terms to the cost.\n",
        "            - L1 term is the sum of absolute weight values\n",
        "            - L2 term is the sum of squared weight values\n",
        "            - You should multiply l1 and l2 ratio saved in self.l1 and self.l2\n",
        "            - You should NOT include weights that belong to the bias values.\n",
        "          3. Return the total cost (cross entropy + L1 term + L2 term).\n",
        "\n",
        "        \"\"\"\n",
        "\n",
        "        # y_truth = np.array(y_truth)\n",
        "        # y_pred = np.array(y_pred)\n",
        "        y_truth_enc = one_hot(y_truth)\n",
        "        y_pred_enc = one_hot(y_pred)\n",
        "\n",
        "        w_h = self.W[0][1:]\n",
        "        w_out = self.W[1][1:]\n",
        "        \n",
        "        # term1 = -y_truth * (np.log(y_pred + 1e-5))\n",
        "        # term2 = (1 - y_truth) * np.log(1 - y_pred + 1e-5)\n",
        "        # cross_entropy = np.sum(term1 - term2)\n",
        "        cross_entropy = -np.sum(y_truth_enc * np.log(y_pred_enc + 1e-5))\n",
        "        l1_term = (self.l1 * (np.sum(np.abs(w_h)) + np.sum(np.abs(w_out))))\n",
        "        l2_term = (self.l2 * (np.sum(np.square(w_h)) + np.sum(np.square(w_out))))\n",
        "\n",
        "        cost = cross_entropy + l1_term + l2_term      # CHANGE IT\n",
        "        \n",
        "        return cost\n",
        "\n",
        "    \n",
        "\n",
        "    def back_propagation(self, X_train, batch_idx, A, y_truth):\n",
        "      \"\"\"\n",
        "      Perform back propagation based on the result of forward propagation and true labels (for each batch).\n",
        "\n",
        "      Input:\n",
        "        X_train: training features\n",
        "        batch_idx: the current batch indices from the fit function\n",
        "        A: Sigmoided output values - the result of forward propagation\n",
        "        y_truth: One-hot encoded true labels\n",
        "\n",
        "      Output:\n",
        "        None\n",
        "        You should update the weights and biases in self.W/self.B\n",
        "\n",
        "      **** You only need to fill in some required parts marked as \"CHANGE THIS PART\" ****\n",
        "      **** To get more information about the backpropagation process: \n",
        "           https://towardsdatascience.com/deriving-backpropagation-with-cross-entropy-loss-d24811edeaf9 ****\n",
        "      \"\"\"\n",
        "\n",
        "      # OUTPUT WEIGHTS (LAYER-OUTPUT)\n",
        "\n",
        "      # δC/δA * δA/δZ\n",
        "      delta_out = A[-1] - y_truth[batch_idx]   \n",
        "      # δC/δA * δA/δZ * δZ/δW\n",
        "      grad_w_out = np.dot(A[0].T, delta_out)\n",
        "      # δC/δA * δA/δZ * δZ/δB\n",
        "      grad_b_out = np.sum(delta_out, axis=0)\n",
        "\n",
        "      #############################################\n",
        "      # CHANGE THIS PART\n",
        "    \n",
        "      # Using the final gradients of the weight and bias (grad_w_out, grad_b_out), we need to update\n",
        "      # Change the values of self.W[1], self.B[1] (output weight and bias).\n",
        "      # - You should also apply l1 and l2 normalization to the weight (not to the bias)\n",
        "      # - You should use the learning rate (self.eta) when changing the value.\n",
        "\n",
        "      l1_w = self.l1 * self.W[1]\n",
        "      l2_w = self.l2 * self.W[1]\n",
        "    \n",
        "      delta_w_out = (grad_w_out + (l1_w + l2_w))                          # CHANGE IT\n",
        "      delta_b_out = grad_b_out                                            # CHANGE IT\n",
        "      self.W[1] -= self.eta * delta_w_out                                 # CHANGE IT\n",
        "      self.B[1] -= self.eta * delta_b_out                                 # CHANGE IT\n",
        "\n",
        "      # END OF CHANGE\n",
        "      #############################################\n",
        "      \n",
        "      # HIDDEN WEIGHTS (INPUT-LAYER)\n",
        "\n",
        "      #############################################\n",
        "      # CHANGE THIS PART\n",
        "\n",
        "      # To continue to take derivatives backwards, we need to be able to take a derivative of the sigmoid function.\n",
        "      # Here we are trying to take derivative of a sigmoided output A[0].\n",
        "      # Derivative of sigmoid σ(x) can be represented as σ(x)(1−σ(x)).\n",
        "      \n",
        "      sigmoid_derivative_h = (A[0]) * (1 - A[0])                # CHANGE IT\n",
        "\n",
        "      # END OF CHANGE\n",
        "      #############################################\n",
        "\n",
        "      delta_h = (np.dot(delta_out, self.W[1].T) * sigmoid_derivative_h)\n",
        "      grad_w_h = np.dot(X_train[batch_idx].T, delta_h)\n",
        "      grad_b_h = np.sum(delta_h, axis=0)\n",
        "\n",
        "      #############################################\n",
        "      # CHANGE THIS PART\n",
        "\n",
        "      # Using the final gradients of the weight and bias (grad_w_h, grad_b_h), we need to update\n",
        "      # Change the values of self.W[0], self.B[0] (output weight and bias).\n",
        "      # - You should also apply l1 and l2 normalization to the weight (not to the bias)\n",
        "      # - You should use the learning rate (self.eta) when changing the value.\n",
        "\n",
        "      # delta_w_h = self.eta * (grad_w_h + (l1_l2 * self.W[0,1:]))       # CHANGE IT\n",
        "      l1_w0 = self.l1 * self.W[0]\n",
        "      l2_w0 = self.l2 * self.W[0]\n",
        "\n",
        "      delta_w_h = (grad_w_h + (l1_w0 + l2_w0))                           # CHANGE IT\n",
        "      delta_b_h = grad_b_h                                               # CHANGE IT\n",
        "      \n",
        "      self.W[0] -= self.eta * delta_w_h                                  # CHANGE IT\n",
        "      self.B[0] -= self.eta * delta_b_h                                  # CHANGE IT\n",
        "\n",
        "      # END OF CHANGE\n",
        "      #############################################\n",
        "\n",
        "    \n",
        "    def evaluate(self, epoch, X_train, X_valid, y_train, y_valid):\n",
        "      \"\"\"\n",
        "      Evaluate performances on the training and validation sets per epoch\n",
        "      \n",
        "      Input:\n",
        "        - epoch: current epoch number\n",
        "        - X_train: training features\n",
        "        - X_valid: validation features\n",
        "        - y_train: training labels\n",
        "        - y_valid: validation labels\n",
        "\n",
        "      Output:\n",
        "        - None\n",
        "        Append the cost and performance metrics of current epoch to self.history\n",
        "      \"\"\"\n",
        "\n",
        "      # Step 1. Call self.forward on X_train to calculate the output with current weights and bias of the model\n",
        "      Z, A = self.forward(X_train)      # CHANGE IT\n",
        "\n",
        "      # Step 2. call predict functions with both X_train and X_valid and save the predicted values accordingly\n",
        "      y_train_pred = self.predict(X_train)      # CHANGE IT\n",
        "      y_valid_pred = self.predict(X_valid)      # CHANGE IT\n",
        "      \n",
        "\n",
        "      # Step 2. Call self.cost with y_train and y_train_pred\n",
        "      # save it into the variable 'cost'\n",
        "      cost = self.cost(y_train,y_train_pred)      # CHANGE IT\n",
        "\n",
        "      # Step 4. Calculate accuracy scores \n",
        "      # - between y_train_pred and y_train\n",
        "      # - between y_valid_pred and y_valid\n",
        "\n",
        "      train_acc = ((np.sum(y_train == y_train_pred)).astype(np.float) / X_train.shape[0])       # CHANGE IT\n",
        "      valid_acc = ((np.sum(y_valid == y_valid_pred)).astype(np.float) / X_valid.shape[0])       # CHANGE IT\n",
        "\n",
        "      # Step 5. Save the results into the dictionary\n",
        "      # This part is already complete\n",
        "      if self.debug == True:\n",
        "        print('%d/%d | Cost: %.2f '\n",
        "                        '| Train/Valid Acc.: %.2f%%/%.2f%% ' %\n",
        "                        (epoch+1, self.epochs, cost,\n",
        "                          train_acc*100, valid_acc*100))\n",
        "\n",
        "      self.history['cost'].append(cost)\n",
        "      self.history['train_acc'].append(train_acc)\n",
        "      self.history['valid_acc'].append(valid_acc)\n",
        "\n",
        "    \n",
        "    def fit(self, X, y):\n",
        "        \"\"\" \n",
        "        \n",
        "        Learn weights from training data.\n",
        "\n",
        "        Input\n",
        "          - X: features (training+validation)\n",
        "          - y: labels\n",
        "\n",
        "        Output\n",
        "          - self.history: information about cost and accuracy scores\n",
        "\n",
        "        \"\"\"\n",
        "\n",
        "        self.history = {'cost': [], 'train_acc': [], 'valid_acc': []}\n",
        "\n",
        "        # Step 1: Select different training and test sets. Use scikit-learn's train_test_split.\n",
        "        # Turn on the stratification option and use self.validation_rate\n",
        "        X_train, X_valid, y_train, y_valid = train_test_split(X, y, test_size=self.validation_rate, random_state=self.random, stratify=y)  # CHANGE IT\n",
        "\n",
        "        # Step 2: Compile (initialize) the parameters by running self.compile with correct number of features and outputs\n",
        "        # WRITE YOUR CODE HERE\n",
        "\n",
        "        n_output = np.unique(y_train).shape[0]\n",
        "        n_feature = X_train.shape[1]\n",
        "        self.compile(n_features=n_feature, n_outputs=n_output)   \n",
        "        \n",
        "        #\n",
        "\n",
        "        # Step 3: Prepare one-hot encoded training labels by using one_hot function on y_train\n",
        "        y_train_enc = one_hot(y_train)        # CHANGE IT\n",
        "        \n",
        "\n",
        "        # Step 4: iterate over training epochs\n",
        "        for i in range(self.epochs):\n",
        "\n",
        "            # Step 5: set the indices\n",
        "            # - if self.shuffle is True, shuffle the indices using self.random.shuffle or permutation\n",
        "            indices = np.arange(X_train.shape[0])      # CHANGE IT\n",
        "            if(self.shuffle == True):\n",
        "              self.random.shuffle(indices)\n",
        "\n",
        "            # Step 6: iterate over the data\n",
        "            # - For each iteration, you need to choose the data \n",
        "            for start_idx in range(0, indices.shape[0] - self.batch_size +\n",
        "                                   1, self.batch_size):\n",
        "                batch_idx = indices[start_idx:start_idx + self.batch_size]       # CHANGE IT\n",
        "\n",
        "                # Step 7: Run a forward propagation\n",
        "                Z, A = self.forward(X_train[batch_idx])       # CHANGE IT\n",
        "\n",
        "                # Step 8: Run back propagation \n",
        "                # - Use X_train, batch_idx, A, and y_train_enc\n",
        "                # WRITE YOUR CODE HERE\n",
        "                self.back_propagation(X_train, batch_idx, A, y_train_enc)\n",
        "                #\n",
        "\n",
        "\n",
        "            # call evaluate function after inner loop (whole batch cycles) is complete\n",
        "            # WRITE YOUR CODE HERE\n",
        "            \n",
        "            self.evaluate(i, X_train, X_valid, y_train, y_valid)\n",
        "\n",
        "            #\n",
        "\n",
        "        # Step 9: After all loops are complete, return self.history\n",
        "        return self.history\n",
        "\n",
        "    def transform(self, X, y=None):\n",
        "      \"\"\"\n",
        "      We do not need to complete this function.\n",
        "      Leave as it is!\n",
        "      \"\"\"\n",
        "      return self.history\n",
        "    \n",
        "    def score(self, X, y=None):\n",
        "      \"\"\"\n",
        "      Score function for pipeline\n",
        "      Leave as it is!\n",
        "      \"\"\"\n",
        "      y_pred = self.predict(X)\n",
        "      acc = np.sum(y == y_pred) / X.shape[0]\n",
        "      return acc"
      ]
    },
    {
      "cell_type": "markdown",
      "metadata": {
        "id": "4QAzKAjhhwHu"
      },
      "source": [
        "After you finish developing the methods in the class structure, you can create a new instance as follows:"
      ]
    },
    {
      "cell_type": "code",
      "execution_count": 15,
      "metadata": {
        "id": "pEkq3fydrmVw"
      },
      "outputs": [],
      "source": [
        "nn = FullyConnectedNetwork(n_hidden=100, l2=0.01, epochs=100, eta=0.0005, batch_size=100, shuffle=True, seed=12345)"
      ]
    },
    {
      "cell_type": "markdown",
      "metadata": {
        "id": "IXBBoj_oh5Vt"
      },
      "source": [
        "We will try to run 100 epochs, and depending on your computing power, it might take a few minutes to an hour.\n",
        " - Train your network on `X_train` and `y_train` and save the output to `history`."
      ]
    },
    {
      "cell_type": "code",
      "execution_count": 16,
      "metadata": {
        "id": "uSKfzn3czNrU"
      },
      "outputs": [
        {
          "name": "stderr",
          "output_type": "stream",
          "text": [
            "C:\\Users\\deept\\AppData\\Local\\Temp/ipykernel_8476/973144741.py:337: DeprecationWarning: `np.float` is a deprecated alias for the builtin `float`. To silence this warning, use `float` by itself. Doing this will not modify any behavior and is safe. If you specifically wanted the numpy scalar type, use `np.float64` here.\n",
            "Deprecated in NumPy 1.20; for more details and guidance: https://numpy.org/devdocs/release/1.20.0-notes.html#deprecations\n",
            "  train_acc = ((np.sum(y_train == y_train_pred)).astype(np.float) / X_train.shape[0])       # CHANGE IT\n",
            "C:\\Users\\deept\\AppData\\Local\\Temp/ipykernel_8476/973144741.py:338: DeprecationWarning: `np.float` is a deprecated alias for the builtin `float`. To silence this warning, use `float` by itself. Doing this will not modify any behavior and is safe. If you specifically wanted the numpy scalar type, use `np.float64` here.\n",
            "Deprecated in NumPy 1.20; for more details and guidance: https://numpy.org/devdocs/release/1.20.0-notes.html#deprecations\n",
            "  valid_acc = ((np.sum(y_valid == y_valid_pred)).astype(np.float) / X_valid.shape[0])       # CHANGE IT\n"
          ]
        },
        {
          "name": "stdout",
          "output_type": "stream",
          "text": [
            "1/100 | Cost: 99306.94 | Train/Valid Acc.: 79.46%/79.22% \n",
            "2/100 | Cost: 73622.05 | Train/Valid Acc.: 84.78%/84.75% \n",
            "3/100 | Cost: 64204.83 | Train/Valid Acc.: 86.72%/86.69% \n",
            "4/100 | Cost: 57124.67 | Train/Valid Acc.: 88.19%/88.08% \n",
            "5/100 | Cost: 53590.45 | Train/Valid Acc.: 88.92%/88.88% \n",
            "6/100 | Cost: 50689.41 | Train/Valid Acc.: 89.52%/89.43% \n",
            "7/100 | Cost: 49100.82 | Train/Valid Acc.: 89.85%/89.93% \n",
            "8/100 | Cost: 47374.05 | Train/Valid Acc.: 90.20%/90.28% \n",
            "9/100 | Cost: 45877.52 | Train/Valid Acc.: 90.51%/90.56% \n",
            "10/100 | Cost: 44553.68 | Train/Valid Acc.: 90.79%/90.83% \n",
            "11/100 | Cost: 43690.34 | Train/Valid Acc.: 90.97%/90.93% \n",
            "12/100 | Cost: 42585.23 | Train/Valid Acc.: 91.20%/91.16% \n",
            "13/100 | Cost: 41238.33 | Train/Valid Acc.: 91.47%/91.51% \n",
            "14/100 | Cost: 40490.11 | Train/Valid Acc.: 91.63%/91.56% \n",
            "15/100 | Cost: 39396.49 | Train/Valid Acc.: 91.85%/91.89% \n",
            "16/100 | Cost: 38590.69 | Train/Valid Acc.: 92.02%/91.93% \n",
            "17/100 | Cost: 37980.61 | Train/Valid Acc.: 92.15%/91.96% \n",
            "18/100 | Cost: 37117.24 | Train/Valid Acc.: 92.33%/92.24% \n",
            "19/100 | Cost: 36426.56 | Train/Valid Acc.: 92.47%/92.36% \n",
            "20/100 | Cost: 35586.21 | Train/Valid Acc.: 92.64%/92.52% \n",
            "21/100 | Cost: 34837.96 | Train/Valid Acc.: 92.80%/92.63% \n",
            "22/100 | Cost: 34343.00 | Train/Valid Acc.: 92.90%/92.73% \n",
            "23/100 | Cost: 33767.44 | Train/Valid Acc.: 93.02%/92.94% \n",
            "24/100 | Cost: 33088.27 | Train/Valid Acc.: 93.16%/92.88% \n",
            "25/100 | Cost: 32685.40 | Train/Valid Acc.: 93.24%/93.13% \n",
            "26/100 | Cost: 32167.41 | Train/Valid Acc.: 93.35%/93.21% \n",
            "27/100 | Cost: 31799.08 | Train/Valid Acc.: 93.43%/93.28% \n",
            "28/100 | Cost: 31062.33 | Train/Valid Acc.: 93.58%/93.40% \n",
            "29/100 | Cost: 30590.38 | Train/Valid Acc.: 93.68%/93.51% \n",
            "30/100 | Cost: 29980.28 | Train/Valid Acc.: 93.80%/93.56% \n",
            "31/100 | Cost: 29600.43 | Train/Valid Acc.: 93.88%/93.64% \n",
            "32/100 | Cost: 29047.89 | Train/Valid Acc.: 94.00%/93.64% \n",
            "33/100 | Cost: 28852.25 | Train/Valid Acc.: 94.04%/93.73% \n",
            "34/100 | Cost: 28288.19 | Train/Valid Acc.: 94.15%/93.83% \n",
            "35/100 | Cost: 27758.67 | Train/Valid Acc.: 94.26%/93.88% \n",
            "36/100 | Cost: 27459.41 | Train/Valid Acc.: 94.32%/93.94% \n",
            "37/100 | Cost: 27114.09 | Train/Valid Acc.: 94.40%/94.02% \n",
            "38/100 | Cost: 26860.88 | Train/Valid Acc.: 94.45%/94.07% \n",
            "39/100 | Cost: 26619.18 | Train/Valid Acc.: 94.50%/94.09% \n",
            "40/100 | Cost: 26365.97 | Train/Valid Acc.: 94.55%/94.17% \n",
            "41/100 | Cost: 25928.55 | Train/Valid Acc.: 94.64%/94.23% \n",
            "42/100 | Cost: 25686.85 | Train/Valid Acc.: 94.69%/94.21% \n",
            "43/100 | Cost: 25479.68 | Train/Valid Acc.: 94.73%/94.36% \n",
            "44/100 | Cost: 25099.82 | Train/Valid Acc.: 94.81%/94.43% \n",
            "45/100 | Cost: 24869.63 | Train/Valid Acc.: 94.86%/94.41% \n",
            "46/100 | Cost: 24616.41 | Train/Valid Acc.: 94.91%/94.42% \n",
            "47/100 | Cost: 24328.66 | Train/Valid Acc.: 94.97%/94.55% \n",
            "48/100 | Cost: 24063.92 | Train/Valid Acc.: 95.03%/94.58% \n",
            "49/100 | Cost: 23937.34 | Train/Valid Acc.: 95.05%/94.58% \n",
            "50/100 | Cost: 23476.89 | Train/Valid Acc.: 95.15%/94.69% \n",
            "51/100 | Cost: 23269.72 | Train/Valid Acc.: 95.19%/94.72% \n",
            "52/100 | Cost: 23189.19 | Train/Valid Acc.: 95.21%/94.72% \n",
            "53/100 | Cost: 22774.79 | Train/Valid Acc.: 95.29%/94.77% \n",
            "54/100 | Cost: 22671.23 | Train/Valid Acc.: 95.31%/94.82% \n",
            "55/100 | Cost: 22337.42 | Train/Valid Acc.: 95.38%/94.89% \n",
            "56/100 | Cost: 21911.50 | Train/Valid Acc.: 95.47%/94.87% \n",
            "57/100 | Cost: 21923.07 | Train/Valid Acc.: 95.47%/94.88% \n",
            "58/100 | Cost: 21704.39 | Train/Valid Acc.: 95.51%/94.98% \n",
            "59/100 | Cost: 21278.47 | Train/Valid Acc.: 95.60%/95.02% \n",
            "60/100 | Cost: 21048.27 | Train/Valid Acc.: 95.65%/95.08% \n",
            "61/100 | Cost: 20645.37 | Train/Valid Acc.: 95.73%/95.07% \n",
            "62/100 | Cost: 20553.32 | Train/Valid Acc.: 95.75%/95.14% \n",
            "63/100 | Cost: 20714.56 | Train/Valid Acc.: 95.72%/95.18% \n",
            "64/100 | Cost: 20438.31 | Train/Valid Acc.: 95.78%/95.27% \n",
            "65/100 | Cost: 19943.30 | Train/Valid Acc.: 95.88%/95.27% \n",
            "66/100 | Cost: 20035.46 | Train/Valid Acc.: 95.86%/95.28% \n",
            "67/100 | Cost: 19816.77 | Train/Valid Acc.: 95.90%/95.31% \n",
            "68/100 | Cost: 19609.59 | Train/Valid Acc.: 95.95%/95.36% \n",
            "69/100 | Cost: 19506.03 | Train/Valid Acc.: 95.97%/95.43% \n",
            "70/100 | Cost: 19310.36 | Train/Valid Acc.: 96.01%/95.43% \n",
            "71/100 | Cost: 19137.72 | Train/Valid Acc.: 96.05%/95.44% \n",
            "72/100 | Cost: 18803.90 | Train/Valid Acc.: 96.11%/95.49% \n",
            "73/100 | Cost: 18677.31 | Train/Valid Acc.: 96.14%/95.55% \n",
            "74/100 | Cost: 18596.77 | Train/Valid Acc.: 96.16%/95.57% \n",
            "75/100 | Cost: 18516.23 | Train/Valid Acc.: 96.17%/95.65% \n",
            "76/100 | Cost: 18332.07 | Train/Valid Acc.: 96.21%/95.63% \n",
            "77/100 | Cost: 18263.04 | Train/Valid Acc.: 96.23%/95.67% \n",
            "78/100 | Cost: 17963.76 | Train/Valid Acc.: 96.29%/95.68% \n",
            "79/100 | Cost: 17894.73 | Train/Valid Acc.: 96.30%/95.68% \n",
            "80/100 | Cost: 17871.75 | Train/Valid Acc.: 96.31%/95.77% \n",
            "81/100 | Cost: 17595.49 | Train/Valid Acc.: 96.36%/95.76% \n",
            "82/100 | Cost: 17514.95 | Train/Valid Acc.: 96.38%/95.71% \n",
            "83/100 | Cost: 17330.79 | Train/Valid Acc.: 96.42%/95.84% \n",
            "84/100 | Cost: 17077.55 | Train/Valid Acc.: 96.47%/95.82% \n",
            "85/100 | Cost: 16732.21 | Train/Valid Acc.: 96.54%/95.84% \n",
            "86/100 | Cost: 16916.46 | Train/Valid Acc.: 96.50%/95.84% \n",
            "87/100 | Cost: 16720.79 | Train/Valid Acc.: 96.55%/95.87% \n",
            "88/100 | Cost: 16697.81 | Train/Valid Acc.: 96.55%/95.87% \n",
            "89/100 | Cost: 16513.64 | Train/Valid Acc.: 96.59%/95.91% \n",
            "90/100 | Cost: 16571.25 | Train/Valid Acc.: 96.58%/95.95% \n",
            "91/100 | Cost: 16318.01 | Train/Valid Acc.: 96.63%/95.94% \n",
            "92/100 | Cost: 15972.67 | Train/Valid Acc.: 96.70%/95.93% \n",
            "93/100 | Cost: 15938.17 | Train/Valid Acc.: 96.71%/95.98% \n",
            "94/100 | Cost: 15846.11 | Train/Valid Acc.: 96.73%/95.98% \n",
            "95/100 | Cost: 15754.05 | Train/Valid Acc.: 96.75%/95.98% \n",
            "96/100 | Cost: 15650.48 | Train/Valid Acc.: 96.77%/96.06% \n",
            "97/100 | Cost: 15466.32 | Train/Valid Acc.: 96.80%/96.08% \n",
            "98/100 | Cost: 15431.82 | Train/Valid Acc.: 96.81%/96.06% \n",
            "99/100 | Cost: 15397.32 | Train/Valid Acc.: 96.82%/96.06% \n",
            "100/100 | Cost: 15178.62 | Train/Valid Acc.: 96.86%/96.07% \n"
          ]
        }
      ],
      "source": [
        "history = nn.fit(X_train, y_train)"
      ]
    },
    {
      "cell_type": "markdown",
      "metadata": {
        "id": "EGuc6mti3lIp"
      },
      "source": [
        "After the training is done, you should be able to plot the training and validation accuracy scores over time using the `history` dictionary returned by the fit function."
      ]
    },
    {
      "cell_type": "code",
      "execution_count": 17,
      "metadata": {
        "id": "n79B9p-OzPIA"
      },
      "outputs": [
        {
          "data": {
            "image/png": "[encoded data removed]",
            "text/plain": [
              "<Figure size 432x288 with 1 Axes>"
            ]
          },
          "metadata": {
            "needs_background": "light"
          },
          "output_type": "display_data"
        }
      ],
      "source": [
        "plt.plot(history['train_acc'],label='Training')\n",
        "plt.plot(history['valid_acc'],label='Validation')\n",
        "plt.ylabel('Accuracy')\n",
        "plt.xlabel('Epochs')\n",
        "plt.legend(loc='lower right')\n",
        "plt.show()"
      ]
    },
    {
      "cell_type": "markdown",
      "metadata": {
        "id": "rPA_LeMzqyFc"
      },
      "source": [
        "## 4. Integrate our classifier into the scikit-learn pipeline and the randomized search"
      ]
    },
    {
      "cell_type": "markdown",
      "metadata": {
        "id": "SP7V3OjInmQM"
      },
      "source": [
        "This time, we will use the same strategy as the second lab, trying to integrate everything from the raw dataset to the performance metrics into scikit-learn pipeline. \n",
        "\n",
        "- Task 1: Create a `Normalizer` class that extends BaseEstimator and TransformerMixin.\n",
        " - Your normalizer should do the following job:\n",
        "   - Normalizer: To make the features have the range [0, 1] and also **center the points to zero by subtracting 0.5 from the values.**\n",
        "   - Use NumPy's broadcasting to calculate (X / 255) - 0.5.\n",
        "\n",
        "\n",
        "- Task 2: Create a pipeline that integrates both normalizer and your neural network classifier.\n",
        "  - Your pipeline should contain the following modules.\n",
        "    - 'normalizer': Normalizer class\n",
        "    - 'classifier': `FullyConnectedNetwork` with default parameters but with epochs=10.\n",
        "\n",
        "- Task 3: Fit your pipeline on the datasets (`X_train`, `y_train`).\n",
        "  - You should **not** use `X_normalized` this time as the normalizer is now part of your pipeline. This means you might need to split your dataset again with `train_test_split` by using `X` and `y_integer`. Turn on stratification, and set `train_size` = 60000, `test_size` = 10000.\n",
        "  - Fit your pipeline and report the test score on `X_test` and `y_test` to `pipeline_score`."
      ]
    },
    {
      "cell_type": "code",
      "execution_count": 18,
      "metadata": {},
      "outputs": [],
      "source": [
        "X_train, X_test, y_train, y_test = train_test_split(X, y_integer, test_size=0.142857,stratify=y) "
      ]
    },
    {
      "cell_type": "code",
      "execution_count": 19,
      "metadata": {
        "id": "7KQyD1cf1Na8"
      },
      "outputs": [
        {
          "name": "stderr",
          "output_type": "stream",
          "text": [
            "C:\\Users\\deept\\AppData\\Local\\Temp/ipykernel_8476/973144741.py:337: DeprecationWarning: `np.float` is a deprecated alias for the builtin `float`. To silence this warning, use `float` by itself. Doing this will not modify any behavior and is safe. If you specifically wanted the numpy scalar type, use `np.float64` here.\n",
            "Deprecated in NumPy 1.20; for more details and guidance: https://numpy.org/devdocs/release/1.20.0-notes.html#deprecations\n",
            "  train_acc = ((np.sum(y_train == y_train_pred)).astype(np.float) / X_train.shape[0])       # CHANGE IT\n",
            "C:\\Users\\deept\\AppData\\Local\\Temp/ipykernel_8476/973144741.py:338: DeprecationWarning: `np.float` is a deprecated alias for the builtin `float`. To silence this warning, use `float` by itself. Doing this will not modify any behavior and is safe. If you specifically wanted the numpy scalar type, use `np.float64` here.\n",
            "Deprecated in NumPy 1.20; for more details and guidance: https://numpy.org/devdocs/release/1.20.0-notes.html#deprecations\n",
            "  valid_acc = ((np.sum(y_valid == y_valid_pred)).astype(np.float) / X_valid.shape[0])       # CHANGE IT\n"
          ]
        },
        {
          "name": "stdout",
          "output_type": "stream",
          "text": [
            "1/10 | Cost: 107104.42 | Train/Valid Acc.: 77.85%/77.59% \n",
            "2/10 | Cost: 70447.23 | Train/Valid Acc.: 85.43%/85.01% \n",
            "3/10 | Cost: 56194.22 | Train/Valid Acc.: 88.38%/87.88% \n",
            "4/10 | Cost: 49723.95 | Train/Valid Acc.: 89.72%/89.24% \n",
            "5/10 | Cost: 47052.95 | Train/Valid Acc.: 90.27%/89.69% \n",
            "6/10 | Cost: 44784.90 | Train/Valid Acc.: 90.74%/90.09% \n",
            "7/10 | Cost: 43023.42 | Train/Valid Acc.: 91.10%/90.49% \n",
            "8/10 | Cost: 41400.10 | Train/Valid Acc.: 91.44%/90.73% \n",
            "9/10 | Cost: 39903.41 | Train/Valid Acc.: 91.75%/91.03% \n",
            "10/10 | Cost: 38452.78 | Train/Valid Acc.: 92.05%/91.36% \n"
          ]
        },
        {
          "data": {
            "text/plain": [
              "Pipeline(steps=[('normalizer', Normalizer()),\n",
              "                ('classifier', FullyConnectedNetwork(epochs=10, l1=0, l2=0))])"
            ]
          },
          "execution_count": 19,
          "metadata": {},
          "output_type": "execute_result"
        }
      ],
      "source": [
        "# Create: class Normalizer(BaseEstimator, TransformerMixin)\n",
        "#\n",
        "#\n",
        "class Normalizer(BaseEstimator, TransformerMixin):\n",
        "  \"\"\"\n",
        "  Normalizer: To make the features have the range [0, 1] and also center the points to zero by subtracting 0.5 from the values.\n",
        "   - Use NumPy's broadcasting to calculate (X / 255) - 0.5.\n",
        "  \"\"\"\n",
        "  def __init__(self):\n",
        "    return None\n",
        "  \n",
        "  def fit(self, X, y = None):\n",
        "    return self\n",
        "\n",
        "  def transform(self, X, y = None):\n",
        "    X = np.array((X / 255) - 0.5)\n",
        "    return X\n",
        "\n",
        "\n",
        "# Creating a pipeline\n",
        "# - scaler = Normalizer()\n",
        "# - classifier = FullyConnectedNetwork\n",
        "\n",
        "pipe = Pipeline([\n",
        "  ('normalizer', Normalizer()),\n",
        "  ('classifier', FullyConnectedNetwork(n_hidden=30, l2=0, l1=0, epochs=10, eta=0.001, validation_rate=0.3, shuffle=True, batch_size=1, init_technique=\"normal\", seed=None, debug=True))\n",
        "])\n",
        "\n",
        "pipe.fit(X_train, y_train)\n"
      ]
    },
    {
      "cell_type": "code",
      "execution_count": 20,
      "metadata": {
        "id": "tQRQASa5bz89"
      },
      "outputs": [
        {
          "name": "stdout",
          "output_type": "stream",
          "text": [
            "0.9166\n"
          ]
        }
      ],
      "source": [
        "# REPORT YOUR SCORE HERE\n",
        "training_score = str(pipe.score(X_train, y_train))\n",
        "pipeline_score = str(pipe.score(X_test, y_test))        # CHANGE IT\n",
        "print(pipeline_score)"
      ]
    },
    {
      "cell_type": "markdown",
      "metadata": {
        "id": "nMdqSR8k4hRI"
      },
      "source": [
        "- Task 4: Randomized search\n",
        "  - After constructing your pipeline, we will perform a randomized search on it.\n",
        "  - Define your parameter grid with the following information:\n",
        "    - l1 of classifier: [0.001, 0.01, 0.1]\n",
        "    - l2 of classifier: [0.001, 0.01, 0.1]\n",
        "    - size of hidden layer of classifier: [30, 50, 100]\n",
        "    - learning rate of classifier: [0.0001, 0.0005, 0.001]\n",
        "    - initialization techniques of classifier: [normal, xavier, he]\n",
        "  - Run your randomized search with cv=3. Fit it on your previous `X_train` and `y_train`. \n",
        "    - Make 10 different attempts.\n",
        "    - Set `random_state` = 12345\n",
        "  - Report your best classifier and best score into the variables `best_classifier` and `best_score`.\n",
        "\n",
        "  - **Note that this task will take a few hours based on computing power, so you may not need to finish the run. We will only check if the logic is correct if you cannot finish the task before the submission.**"
      ]
    },
    {
      "cell_type": "code",
      "execution_count": 21,
      "metadata": {},
      "outputs": [
        {
          "data": {
            "text/plain": [
              "dict_keys(['memory', 'steps', 'verbose', 'normalizer', 'classifier', 'classifier__batch_size', 'classifier__debug', 'classifier__epochs', 'classifier__eta', 'classifier__init_technique', 'classifier__l1', 'classifier__l2', 'classifier__n_hidden', 'classifier__seed', 'classifier__shuffle', 'classifier__validation_rate'])"
            ]
          },
          "execution_count": 21,
          "metadata": {},
          "output_type": "execute_result"
        }
      ],
      "source": [
        "pipe.get_params().keys() "
      ]
    },
    {
      "cell_type": "code",
      "execution_count": 22,
      "metadata": {
        "id": "rysn4lmhmpBb"
      },
      "outputs": [
        {
          "name": "stderr",
          "output_type": "stream",
          "text": [
            "C:\\Users\\deept\\AppData\\Local\\Temp/ipykernel_8476/973144741.py:337: DeprecationWarning: `np.float` is a deprecated alias for the builtin `float`. To silence this warning, use `float` by itself. Doing this will not modify any behavior and is safe. If you specifically wanted the numpy scalar type, use `np.float64` here.\n",
            "Deprecated in NumPy 1.20; for more details and guidance: https://numpy.org/devdocs/release/1.20.0-notes.html#deprecations\n",
            "  train_acc = ((np.sum(y_train == y_train_pred)).astype(np.float) / X_train.shape[0])       # CHANGE IT\n",
            "C:\\Users\\deept\\AppData\\Local\\Temp/ipykernel_8476/973144741.py:338: DeprecationWarning: `np.float` is a deprecated alias for the builtin `float`. To silence this warning, use `float` by itself. Doing this will not modify any behavior and is safe. If you specifically wanted the numpy scalar type, use `np.float64` here.\n",
            "Deprecated in NumPy 1.20; for more details and guidance: https://numpy.org/devdocs/release/1.20.0-notes.html#deprecations\n",
            "  valid_acc = ((np.sum(y_valid == y_valid_pred)).astype(np.float) / X_valid.shape[0])       # CHANGE IT\n"
          ]
        },
        {
          "name": "stdout",
          "output_type": "stream",
          "text": [
            "1/10 | Cost: 212238.27 | Train/Valid Acc.: 34.17%/34.32% \n"
          ]
        },
        {
          "name": "stderr",
          "output_type": "stream",
          "text": [
            "C:\\Users\\deept\\AppData\\Local\\Temp/ipykernel_8476/973144741.py:337: DeprecationWarning: `np.float` is a deprecated alias for the builtin `float`. To silence this warning, use `float` by itself. Doing this will not modify any behavior and is safe. If you specifically wanted the numpy scalar type, use `np.float64` here.\n",
            "Deprecated in NumPy 1.20; for more details and guidance: https://numpy.org/devdocs/release/1.20.0-notes.html#deprecations\n",
            "  train_acc = ((np.sum(y_train == y_train_pred)).astype(np.float) / X_train.shape[0])       # CHANGE IT\n",
            "C:\\Users\\deept\\AppData\\Local\\Temp/ipykernel_8476/973144741.py:338: DeprecationWarning: `np.float` is a deprecated alias for the builtin `float`. To silence this warning, use `float` by itself. Doing this will not modify any behavior and is safe. If you specifically wanted the numpy scalar type, use `np.float64` here.\n",
            "Deprecated in NumPy 1.20; for more details and guidance: https://numpy.org/devdocs/release/1.20.0-notes.html#deprecations\n",
            "  valid_acc = ((np.sum(y_valid == y_valid_pred)).astype(np.float) / X_valid.shape[0])       # CHANGE IT\n"
          ]
        },
        {
          "name": "stdout",
          "output_type": "stream",
          "text": [
            "1/10 | Cost: 83961.70 | Train/Valid Acc.: 73.96%/73.17% \n",
            "2/10 | Cost: 65246.50 | Train/Valid Acc.: 79.76%/79.12% \n",
            "3/10 | Cost: 52889.87 | Train/Valid Acc.: 83.60%/83.23% \n",
            "4/10 | Cost: 50816.05 | Train/Valid Acc.: 84.24%/83.79% \n",
            "5/10 | Cost: 46233.26 | Train/Valid Acc.: 85.66%/85.54% \n",
            "6/10 | Cost: 47453.40 | Train/Valid Acc.: 85.28%/84.85% \n",
            "7/10 | Cost: 46405.67 | Train/Valid Acc.: 85.61%/85.22% \n",
            "8/10 | Cost: 50815.14 | Train/Valid Acc.: 84.24%/83.99% \n",
            "9/10 | Cost: 45645.84 | Train/Valid Acc.: 85.84%/85.51% \n",
            "10/10 | Cost: 44713.32 | Train/Valid Acc.: 86.13%/85.98% \n"
          ]
        },
        {
          "name": "stderr",
          "output_type": "stream",
          "text": [
            "C:\\Users\\deept\\AppData\\Local\\Temp/ipykernel_8476/973144741.py:337: DeprecationWarning: `np.float` is a deprecated alias for the builtin `float`. To silence this warning, use `float` by itself. Doing this will not modify any behavior and is safe. If you specifically wanted the numpy scalar type, use `np.float64` here.\n",
            "Deprecated in NumPy 1.20; for more details and guidance: https://numpy.org/devdocs/release/1.20.0-notes.html#deprecations\n",
            "  train_acc = ((np.sum(y_train == y_train_pred)).astype(np.float) / X_train.shape[0])       # CHANGE IT\n",
            "C:\\Users\\deept\\AppData\\Local\\Temp/ipykernel_8476/973144741.py:338: DeprecationWarning: `np.float` is a deprecated alias for the builtin `float`. To silence this warning, use `float` by itself. Doing this will not modify any behavior and is safe. If you specifically wanted the numpy scalar type, use `np.float64` here.\n",
            "Deprecated in NumPy 1.20; for more details and guidance: https://numpy.org/devdocs/release/1.20.0-notes.html#deprecations\n",
            "  valid_acc = ((np.sum(y_valid == y_valid_pred)).astype(np.float) / X_valid.shape[0])       # CHANGE IT\n"
          ]
        },
        {
          "name": "stdout",
          "output_type": "stream",
          "text": [
            "1/10 | Cost: 87668.76 | Train/Valid Acc.: 72.81%/71.83% \n",
            "2/10 | Cost: 64509.58 | Train/Valid Acc.: 79.99%/79.11% \n",
            "3/10 | Cost: 59302.53 | Train/Valid Acc.: 81.61%/80.82% \n",
            "4/10 | Cost: 52496.92 | Train/Valid Acc.: 83.72%/82.93% \n",
            "5/10 | Cost: 47971.69 | Train/Valid Acc.: 85.12%/84.38% \n",
            "6/10 | Cost: 49675.38 | Train/Valid Acc.: 84.59%/83.85% \n",
            "7/10 | Cost: 48719.73 | Train/Valid Acc.: 84.89%/84.38% \n",
            "8/10 | Cost: 45968.15 | Train/Valid Acc.: 85.74%/84.95% \n",
            "9/10 | Cost: 44080.06 | Train/Valid Acc.: 86.33%/85.59% \n",
            "10/10 | Cost: 46808.63 | Train/Valid Acc.: 85.48%/84.63% \n"
          ]
        },
        {
          "name": "stderr",
          "output_type": "stream",
          "text": [
            "C:\\Users\\deept\\AppData\\Local\\Temp/ipykernel_8476/973144741.py:337: DeprecationWarning: `np.float` is a deprecated alias for the builtin `float`. To silence this warning, use `float` by itself. Doing this will not modify any behavior and is safe. If you specifically wanted the numpy scalar type, use `np.float64` here.\n",
            "Deprecated in NumPy 1.20; for more details and guidance: https://numpy.org/devdocs/release/1.20.0-notes.html#deprecations\n",
            "  train_acc = ((np.sum(y_train == y_train_pred)).astype(np.float) / X_train.shape[0])       # CHANGE IT\n",
            "C:\\Users\\deept\\AppData\\Local\\Temp/ipykernel_8476/973144741.py:338: DeprecationWarning: `np.float` is a deprecated alias for the builtin `float`. To silence this warning, use `float` by itself. Doing this will not modify any behavior and is safe. If you specifically wanted the numpy scalar type, use `np.float64` here.\n",
            "Deprecated in NumPy 1.20; for more details and guidance: https://numpy.org/devdocs/release/1.20.0-notes.html#deprecations\n",
            "  valid_acc = ((np.sum(y_valid == y_valid_pred)).astype(np.float) / X_valid.shape[0])       # CHANGE IT\n"
          ]
        },
        {
          "name": "stdout",
          "output_type": "stream",
          "text": [
            "1/10 | Cost: 79010.88 | Train/Valid Acc.: 75.50%/75.28% \n",
            "2/10 | Cost: 68734.75 | Train/Valid Acc.: 78.68%/78.13% \n",
            "3/10 | Cost: 56562.37 | Train/Valid Acc.: 82.46%/81.72% \n",
            "4/10 | Cost: 50459.04 | Train/Valid Acc.: 84.35%/83.83% \n",
            "5/10 | Cost: 47154.20 | Train/Valid Acc.: 85.38%/84.67% \n",
            "6/10 | Cost: 50492.71 | Train/Valid Acc.: 84.34%/83.90% \n",
            "7/10 | Cost: 45519.09 | Train/Valid Acc.: 85.88%/85.01% \n",
            "8/10 | Cost: 46624.32 | Train/Valid Acc.: 85.54%/84.81% \n",
            "9/10 | Cost: 47648.99 | Train/Valid Acc.: 85.22%/84.46% \n",
            "10/10 | Cost: 44828.35 | Train/Valid Acc.: 86.10%/85.52% \n"
          ]
        },
        {
          "name": "stderr",
          "output_type": "stream",
          "text": [
            "C:\\Users\\deept\\AppData\\Roaming\\Python\\Python39\\site-packages\\sklearn\\model_selection\\_validation.py:372: FitFailedWarning: \n",
            "27 fits failed out of a total of 30.\n",
            "The score on these train-test partitions for these parameters will be set to nan.\n",
            "If these failures are not expected, you can try to debug them by setting error_score='raise'.\n",
            "\n",
            "Below are more details about the failures:\n",
            "--------------------------------------------------------------------------------\n",
            "5 fits failed with the following error:\n",
            "Traceback (most recent call last):\n",
            "  File \"C:\\Users\\deept\\AppData\\Roaming\\Python\\Python39\\site-packages\\sklearn\\model_selection\\_validation.py\", line 680, in _fit_and_score\n",
            "    estimator.fit(X_train, y_train, **fit_params)\n",
            "  File \"C:\\Users\\deept\\AppData\\Roaming\\Python\\Python39\\site-packages\\sklearn\\pipeline.py\", line 394, in fit\n",
            "    self._final_estimator.fit(Xt, y, **fit_params_last_step)\n",
            "  File \"C:\\Users\\deept\\AppData\\Local\\Temp/ipykernel_8476/973144741.py\", line 414, in fit\n",
            "    self.evaluate(i, X_train, X_valid, y_train, y_valid)\n",
            "  File \"C:\\Users\\deept\\AppData\\Local\\Temp/ipykernel_8476/973144741.py\", line 331, in evaluate\n",
            "    cost = self.cost(y_train,y_train_pred)      # CHANGE IT\n",
            "  File \"C:\\Users\\deept\\AppData\\Local\\Temp/ipykernel_8476/973144741.py\", line 200, in cost\n",
            "    y_pred_enc = one_hot(y_pred)\n",
            "  File \"C:\\Users\\deept\\AppData\\Local\\Temp/ipykernel_8476/970944179.py\", line 17, in one_hot\n",
            "    out[np.arange(m), y] = 1\n",
            "IndexError: index 1 is out of bounds for axis 1 with size 1\n",
            "\n",
            "--------------------------------------------------------------------------------\n",
            "1 fits failed with the following error:\n",
            "Traceback (most recent call last):\n",
            "  File \"C:\\Users\\deept\\AppData\\Roaming\\Python\\Python39\\site-packages\\sklearn\\model_selection\\_validation.py\", line 680, in _fit_and_score\n",
            "    estimator.fit(X_train, y_train, **fit_params)\n",
            "  File \"C:\\Users\\deept\\AppData\\Roaming\\Python\\Python39\\site-packages\\sklearn\\pipeline.py\", line 394, in fit\n",
            "    self._final_estimator.fit(Xt, y, **fit_params_last_step)\n",
            "  File \"C:\\Users\\deept\\AppData\\Local\\Temp/ipykernel_8476/973144741.py\", line 414, in fit\n",
            "    self.evaluate(i, X_train, X_valid, y_train, y_valid)\n",
            "  File \"C:\\Users\\deept\\AppData\\Local\\Temp/ipykernel_8476/973144741.py\", line 331, in evaluate\n",
            "    cost = self.cost(y_train,y_train_pred)      # CHANGE IT\n",
            "  File \"C:\\Users\\deept\\AppData\\Local\\Temp/ipykernel_8476/973144741.py\", line 200, in cost\n",
            "    y_pred_enc = one_hot(y_pred)\n",
            "  File \"C:\\Users\\deept\\AppData\\Local\\Temp/ipykernel_8476/970944179.py\", line 17, in one_hot\n",
            "    out[np.arange(m), y] = 1\n",
            "IndexError: index 7 is out of bounds for axis 1 with size 1\n",
            "\n",
            "--------------------------------------------------------------------------------\n",
            "1 fits failed with the following error:\n",
            "Traceback (most recent call last):\n",
            "  File \"C:\\Users\\deept\\AppData\\Roaming\\Python\\Python39\\site-packages\\sklearn\\model_selection\\_validation.py\", line 680, in _fit_and_score\n",
            "    estimator.fit(X_train, y_train, **fit_params)\n",
            "  File \"C:\\Users\\deept\\AppData\\Roaming\\Python\\Python39\\site-packages\\sklearn\\pipeline.py\", line 394, in fit\n",
            "    self._final_estimator.fit(Xt, y, **fit_params_last_step)\n",
            "  File \"C:\\Users\\deept\\AppData\\Local\\Temp/ipykernel_8476/973144741.py\", line 414, in fit\n",
            "    self.evaluate(i, X_train, X_valid, y_train, y_valid)\n",
            "  File \"C:\\Users\\deept\\AppData\\Local\\Temp/ipykernel_8476/973144741.py\", line 331, in evaluate\n",
            "    cost = self.cost(y_train,y_train_pred)      # CHANGE IT\n",
            "  File \"C:\\Users\\deept\\AppData\\Local\\Temp/ipykernel_8476/973144741.py\", line 200, in cost\n",
            "    y_pred_enc = one_hot(y_pred)\n",
            "  File \"C:\\Users\\deept\\AppData\\Local\\Temp/ipykernel_8476/970944179.py\", line 17, in one_hot\n",
            "    out[np.arange(m), y] = 1\n",
            "IndexError: index 7 is out of bounds for axis 1 with size 3\n",
            "\n",
            "--------------------------------------------------------------------------------\n",
            "1 fits failed with the following error:\n",
            "Traceback (most recent call last):\n",
            "  File \"C:\\Users\\deept\\AppData\\Roaming\\Python\\Python39\\site-packages\\sklearn\\model_selection\\_validation.py\", line 680, in _fit_and_score\n",
            "    estimator.fit(X_train, y_train, **fit_params)\n",
            "  File \"C:\\Users\\deept\\AppData\\Roaming\\Python\\Python39\\site-packages\\sklearn\\pipeline.py\", line 394, in fit\n",
            "    self._final_estimator.fit(Xt, y, **fit_params_last_step)\n",
            "  File \"C:\\Users\\deept\\AppData\\Local\\Temp/ipykernel_8476/973144741.py\", line 414, in fit\n",
            "    self.evaluate(i, X_train, X_valid, y_train, y_valid)\n",
            "  File \"C:\\Users\\deept\\AppData\\Local\\Temp/ipykernel_8476/973144741.py\", line 331, in evaluate\n",
            "    cost = self.cost(y_train,y_train_pred)      # CHANGE IT\n",
            "  File \"C:\\Users\\deept\\AppData\\Local\\Temp/ipykernel_8476/973144741.py\", line 200, in cost\n",
            "    y_pred_enc = one_hot(y_pred)\n",
            "  File \"C:\\Users\\deept\\AppData\\Local\\Temp/ipykernel_8476/970944179.py\", line 17, in one_hot\n",
            "    out[np.arange(m), y] = 1\n",
            "IndexError: index 9 is out of bounds for axis 1 with size 6\n",
            "\n",
            "--------------------------------------------------------------------------------\n",
            "1 fits failed with the following error:\n",
            "Traceback (most recent call last):\n",
            "  File \"C:\\Users\\deept\\AppData\\Roaming\\Python\\Python39\\site-packages\\sklearn\\model_selection\\_validation.py\", line 680, in _fit_and_score\n",
            "    estimator.fit(X_train, y_train, **fit_params)\n",
            "  File \"C:\\Users\\deept\\AppData\\Roaming\\Python\\Python39\\site-packages\\sklearn\\pipeline.py\", line 394, in fit\n",
            "    self._final_estimator.fit(Xt, y, **fit_params_last_step)\n",
            "  File \"C:\\Users\\deept\\AppData\\Local\\Temp/ipykernel_8476/973144741.py\", line 414, in fit\n",
            "    self.evaluate(i, X_train, X_valid, y_train, y_valid)\n",
            "  File \"C:\\Users\\deept\\AppData\\Local\\Temp/ipykernel_8476/973144741.py\", line 331, in evaluate\n",
            "    cost = self.cost(y_train,y_train_pred)      # CHANGE IT\n",
            "  File \"C:\\Users\\deept\\AppData\\Local\\Temp/ipykernel_8476/973144741.py\", line 200, in cost\n",
            "    y_pred_enc = one_hot(y_pred)\n",
            "  File \"C:\\Users\\deept\\AppData\\Local\\Temp/ipykernel_8476/970944179.py\", line 17, in one_hot\n",
            "    out[np.arange(m), y] = 1\n",
            "IndexError: index 4 is out of bounds for axis 1 with size 4\n",
            "\n",
            "--------------------------------------------------------------------------------\n",
            "1 fits failed with the following error:\n",
            "Traceback (most recent call last):\n",
            "  File \"C:\\Users\\deept\\AppData\\Roaming\\Python\\Python39\\site-packages\\sklearn\\model_selection\\_validation.py\", line 680, in _fit_and_score\n",
            "    estimator.fit(X_train, y_train, **fit_params)\n",
            "  File \"C:\\Users\\deept\\AppData\\Roaming\\Python\\Python39\\site-packages\\sklearn\\pipeline.py\", line 394, in fit\n",
            "    self._final_estimator.fit(Xt, y, **fit_params_last_step)\n",
            "  File \"C:\\Users\\deept\\AppData\\Local\\Temp/ipykernel_8476/973144741.py\", line 414, in fit\n",
            "    self.evaluate(i, X_train, X_valid, y_train, y_valid)\n",
            "  File \"C:\\Users\\deept\\AppData\\Local\\Temp/ipykernel_8476/973144741.py\", line 331, in evaluate\n",
            "    cost = self.cost(y_train,y_train_pred)      # CHANGE IT\n",
            "  File \"C:\\Users\\deept\\AppData\\Local\\Temp/ipykernel_8476/973144741.py\", line 200, in cost\n",
            "    y_pred_enc = one_hot(y_pred)\n",
            "  File \"C:\\Users\\deept\\AppData\\Local\\Temp/ipykernel_8476/970944179.py\", line 17, in one_hot\n",
            "    out[np.arange(m), y] = 1\n",
            "IndexError: index 7 is out of bounds for axis 1 with size 7\n",
            "\n",
            "--------------------------------------------------------------------------------\n",
            "1 fits failed with the following error:\n",
            "Traceback (most recent call last):\n",
            "  File \"C:\\Users\\deept\\AppData\\Roaming\\Python\\Python39\\site-packages\\sklearn\\model_selection\\_validation.py\", line 680, in _fit_and_score\n",
            "    estimator.fit(X_train, y_train, **fit_params)\n",
            "  File \"C:\\Users\\deept\\AppData\\Roaming\\Python\\Python39\\site-packages\\sklearn\\pipeline.py\", line 394, in fit\n",
            "    self._final_estimator.fit(Xt, y, **fit_params_last_step)\n",
            "  File \"C:\\Users\\deept\\AppData\\Local\\Temp/ipykernel_8476/973144741.py\", line 414, in fit\n",
            "    self.evaluate(i, X_train, X_valid, y_train, y_valid)\n",
            "  File \"C:\\Users\\deept\\AppData\\Local\\Temp/ipykernel_8476/973144741.py\", line 331, in evaluate\n",
            "    cost = self.cost(y_train,y_train_pred)      # CHANGE IT\n",
            "  File \"C:\\Users\\deept\\AppData\\Local\\Temp/ipykernel_8476/973144741.py\", line 200, in cost\n",
            "    y_pred_enc = one_hot(y_pred)\n",
            "  File \"C:\\Users\\deept\\AppData\\Local\\Temp/ipykernel_8476/970944179.py\", line 17, in one_hot\n",
            "    out[np.arange(m), y] = 1\n",
            "IndexError: index 8 is out of bounds for axis 1 with size 8\n",
            "\n",
            "--------------------------------------------------------------------------------\n",
            "2 fits failed with the following error:\n",
            "Traceback (most recent call last):\n",
            "  File \"C:\\Users\\deept\\AppData\\Roaming\\Python\\Python39\\site-packages\\sklearn\\model_selection\\_validation.py\", line 680, in _fit_and_score\n",
            "    estimator.fit(X_train, y_train, **fit_params)\n",
            "  File \"C:\\Users\\deept\\AppData\\Roaming\\Python\\Python39\\site-packages\\sklearn\\pipeline.py\", line 394, in fit\n",
            "    self._final_estimator.fit(Xt, y, **fit_params_last_step)\n",
            "  File \"C:\\Users\\deept\\AppData\\Local\\Temp/ipykernel_8476/973144741.py\", line 414, in fit\n",
            "    self.evaluate(i, X_train, X_valid, y_train, y_valid)\n",
            "  File \"C:\\Users\\deept\\AppData\\Local\\Temp/ipykernel_8476/973144741.py\", line 331, in evaluate\n",
            "    cost = self.cost(y_train,y_train_pred)      # CHANGE IT\n",
            "  File \"C:\\Users\\deept\\AppData\\Local\\Temp/ipykernel_8476/973144741.py\", line 200, in cost\n",
            "    y_pred_enc = one_hot(y_pred)\n",
            "  File \"C:\\Users\\deept\\AppData\\Local\\Temp/ipykernel_8476/970944179.py\", line 17, in one_hot\n",
            "    out[np.arange(m), y] = 1\n",
            "IndexError: index 9 is out of bounds for axis 1 with size 8\n",
            "\n",
            "--------------------------------------------------------------------------------\n",
            "1 fits failed with the following error:\n",
            "Traceback (most recent call last):\n",
            "  File \"C:\\Users\\deept\\AppData\\Roaming\\Python\\Python39\\site-packages\\sklearn\\model_selection\\_validation.py\", line 680, in _fit_and_score\n",
            "    estimator.fit(X_train, y_train, **fit_params)\n",
            "  File \"C:\\Users\\deept\\AppData\\Roaming\\Python\\Python39\\site-packages\\sklearn\\pipeline.py\", line 394, in fit\n",
            "    self._final_estimator.fit(Xt, y, **fit_params_last_step)\n",
            "  File \"C:\\Users\\deept\\AppData\\Local\\Temp/ipykernel_8476/973144741.py\", line 414, in fit\n",
            "    self.evaluate(i, X_train, X_valid, y_train, y_valid)\n",
            "  File \"C:\\Users\\deept\\AppData\\Local\\Temp/ipykernel_8476/973144741.py\", line 331, in evaluate\n",
            "    cost = self.cost(y_train,y_train_pred)      # CHANGE IT\n",
            "  File \"C:\\Users\\deept\\AppData\\Local\\Temp/ipykernel_8476/973144741.py\", line 200, in cost\n",
            "    y_pred_enc = one_hot(y_pred)\n",
            "  File \"C:\\Users\\deept\\AppData\\Local\\Temp/ipykernel_8476/970944179.py\", line 17, in one_hot\n",
            "    out[np.arange(m), y] = 1\n",
            "IndexError: index 7 is out of bounds for axis 1 with size 4\n",
            "\n",
            "--------------------------------------------------------------------------------\n",
            "3 fits failed with the following error:\n",
            "Traceback (most recent call last):\n",
            "  File \"C:\\Users\\deept\\AppData\\Roaming\\Python\\Python39\\site-packages\\sklearn\\model_selection\\_validation.py\", line 680, in _fit_and_score\n",
            "    estimator.fit(X_train, y_train, **fit_params)\n",
            "  File \"C:\\Users\\deept\\AppData\\Roaming\\Python\\Python39\\site-packages\\sklearn\\pipeline.py\", line 394, in fit\n",
            "    self._final_estimator.fit(Xt, y, **fit_params_last_step)\n",
            "  File \"C:\\Users\\deept\\AppData\\Local\\Temp/ipykernel_8476/973144741.py\", line 414, in fit\n",
            "    self.evaluate(i, X_train, X_valid, y_train, y_valid)\n",
            "  File \"C:\\Users\\deept\\AppData\\Local\\Temp/ipykernel_8476/973144741.py\", line 331, in evaluate\n",
            "    cost = self.cost(y_train,y_train_pred)      # CHANGE IT\n",
            "  File \"C:\\Users\\deept\\AppData\\Local\\Temp/ipykernel_8476/973144741.py\", line 200, in cost\n",
            "    y_pred_enc = one_hot(y_pred)\n",
            "  File \"C:\\Users\\deept\\AppData\\Local\\Temp/ipykernel_8476/970944179.py\", line 17, in one_hot\n",
            "    out[np.arange(m), y] = 1\n",
            "IndexError: index 7 is out of bounds for axis 1 with size 5\n",
            "\n",
            "--------------------------------------------------------------------------------\n",
            "1 fits failed with the following error:\n",
            "Traceback (most recent call last):\n",
            "  File \"C:\\Users\\deept\\AppData\\Roaming\\Python\\Python39\\site-packages\\sklearn\\model_selection\\_validation.py\", line 680, in _fit_and_score\n",
            "    estimator.fit(X_train, y_train, **fit_params)\n",
            "  File \"C:\\Users\\deept\\AppData\\Roaming\\Python\\Python39\\site-packages\\sklearn\\pipeline.py\", line 394, in fit\n",
            "    self._final_estimator.fit(Xt, y, **fit_params_last_step)\n",
            "  File \"C:\\Users\\deept\\AppData\\Local\\Temp/ipykernel_8476/973144741.py\", line 414, in fit\n",
            "    self.evaluate(i, X_train, X_valid, y_train, y_valid)\n",
            "  File \"C:\\Users\\deept\\AppData\\Local\\Temp/ipykernel_8476/973144741.py\", line 331, in evaluate\n",
            "    cost = self.cost(y_train,y_train_pred)      # CHANGE IT\n",
            "  File \"C:\\Users\\deept\\AppData\\Local\\Temp/ipykernel_8476/973144741.py\", line 200, in cost\n",
            "    y_pred_enc = one_hot(y_pred)\n",
            "  File \"C:\\Users\\deept\\AppData\\Local\\Temp/ipykernel_8476/970944179.py\", line 17, in one_hot\n",
            "    out[np.arange(m), y] = 1\n",
            "IndexError: index 7 is out of bounds for axis 1 with size 2\n",
            "\n",
            "--------------------------------------------------------------------------------\n",
            "1 fits failed with the following error:\n",
            "Traceback (most recent call last):\n",
            "  File \"C:\\Users\\deept\\AppData\\Roaming\\Python\\Python39\\site-packages\\sklearn\\model_selection\\_validation.py\", line 680, in _fit_and_score\n",
            "    estimator.fit(X_train, y_train, **fit_params)\n",
            "  File \"C:\\Users\\deept\\AppData\\Roaming\\Python\\Python39\\site-packages\\sklearn\\pipeline.py\", line 394, in fit\n",
            "    self._final_estimator.fit(Xt, y, **fit_params_last_step)\n",
            "  File \"C:\\Users\\deept\\AppData\\Local\\Temp/ipykernel_8476/973144741.py\", line 414, in fit\n",
            "    self.evaluate(i, X_train, X_valid, y_train, y_valid)\n",
            "  File \"C:\\Users\\deept\\AppData\\Local\\Temp/ipykernel_8476/973144741.py\", line 331, in evaluate\n",
            "    cost = self.cost(y_train,y_train_pred)      # CHANGE IT\n",
            "  File \"C:\\Users\\deept\\AppData\\Local\\Temp/ipykernel_8476/973144741.py\", line 200, in cost\n",
            "    y_pred_enc = one_hot(y_pred)\n",
            "  File \"C:\\Users\\deept\\AppData\\Local\\Temp/ipykernel_8476/970944179.py\", line 17, in one_hot\n",
            "    out[np.arange(m), y] = 1\n",
            "IndexError: index 2 is out of bounds for axis 1 with size 2\n",
            "\n",
            "--------------------------------------------------------------------------------\n",
            "1 fits failed with the following error:\n",
            "Traceback (most recent call last):\n",
            "  File \"C:\\Users\\deept\\AppData\\Roaming\\Python\\Python39\\site-packages\\sklearn\\model_selection\\_validation.py\", line 680, in _fit_and_score\n",
            "    estimator.fit(X_train, y_train, **fit_params)\n",
            "  File \"C:\\Users\\deept\\AppData\\Roaming\\Python\\Python39\\site-packages\\sklearn\\pipeline.py\", line 394, in fit\n",
            "    self._final_estimator.fit(Xt, y, **fit_params_last_step)\n",
            "  File \"C:\\Users\\deept\\AppData\\Local\\Temp/ipykernel_8476/973144741.py\", line 414, in fit\n",
            "    self.evaluate(i, X_train, X_valid, y_train, y_valid)\n",
            "  File \"C:\\Users\\deept\\AppData\\Local\\Temp/ipykernel_8476/973144741.py\", line 331, in evaluate\n",
            "    cost = self.cost(y_train,y_train_pred)      # CHANGE IT\n",
            "  File \"C:\\Users\\deept\\AppData\\Local\\Temp/ipykernel_8476/973144741.py\", line 200, in cost\n",
            "    y_pred_enc = one_hot(y_pred)\n",
            "  File \"C:\\Users\\deept\\AppData\\Local\\Temp/ipykernel_8476/970944179.py\", line 17, in one_hot\n",
            "    out[np.arange(m), y] = 1\n",
            "IndexError: index 3 is out of bounds for axis 1 with size 1\n",
            "\n",
            "--------------------------------------------------------------------------------\n",
            "1 fits failed with the following error:\n",
            "Traceback (most recent call last):\n",
            "  File \"C:\\Users\\deept\\AppData\\Roaming\\Python\\Python39\\site-packages\\sklearn\\model_selection\\_validation.py\", line 680, in _fit_and_score\n",
            "    estimator.fit(X_train, y_train, **fit_params)\n",
            "  File \"C:\\Users\\deept\\AppData\\Roaming\\Python\\Python39\\site-packages\\sklearn\\pipeline.py\", line 394, in fit\n",
            "    self._final_estimator.fit(Xt, y, **fit_params_last_step)\n",
            "  File \"C:\\Users\\deept\\AppData\\Local\\Temp/ipykernel_8476/973144741.py\", line 414, in fit\n",
            "    self.evaluate(i, X_train, X_valid, y_train, y_valid)\n",
            "  File \"C:\\Users\\deept\\AppData\\Local\\Temp/ipykernel_8476/973144741.py\", line 331, in evaluate\n",
            "    cost = self.cost(y_train,y_train_pred)      # CHANGE IT\n",
            "  File \"C:\\Users\\deept\\AppData\\Local\\Temp/ipykernel_8476/973144741.py\", line 200, in cost\n",
            "    y_pred_enc = one_hot(y_pred)\n",
            "  File \"C:\\Users\\deept\\AppData\\Local\\Temp/ipykernel_8476/970944179.py\", line 17, in one_hot\n",
            "    out[np.arange(m), y] = 1\n",
            "IndexError: index 3 is out of bounds for axis 1 with size 2\n",
            "\n",
            "--------------------------------------------------------------------------------\n",
            "1 fits failed with the following error:\n",
            "Traceback (most recent call last):\n",
            "  File \"C:\\Users\\deept\\AppData\\Roaming\\Python\\Python39\\site-packages\\sklearn\\model_selection\\_validation.py\", line 680, in _fit_and_score\n",
            "    estimator.fit(X_train, y_train, **fit_params)\n",
            "  File \"C:\\Users\\deept\\AppData\\Roaming\\Python\\Python39\\site-packages\\sklearn\\pipeline.py\", line 394, in fit\n",
            "    self._final_estimator.fit(Xt, y, **fit_params_last_step)\n",
            "  File \"C:\\Users\\deept\\AppData\\Local\\Temp/ipykernel_8476/973144741.py\", line 414, in fit\n",
            "    self.evaluate(i, X_train, X_valid, y_train, y_valid)\n",
            "  File \"C:\\Users\\deept\\AppData\\Local\\Temp/ipykernel_8476/973144741.py\", line 331, in evaluate\n",
            "    cost = self.cost(y_train,y_train_pred)      # CHANGE IT\n",
            "  File \"C:\\Users\\deept\\AppData\\Local\\Temp/ipykernel_8476/973144741.py\", line 200, in cost\n",
            "    y_pred_enc = one_hot(y_pred)\n",
            "  File \"C:\\Users\\deept\\AppData\\Local\\Temp/ipykernel_8476/970944179.py\", line 17, in one_hot\n",
            "    out[np.arange(m), y] = 1\n",
            "IndexError: index 8 is out of bounds for axis 1 with size 5\n",
            "\n",
            "--------------------------------------------------------------------------------\n",
            "5 fits failed with the following error:\n",
            "Traceback (most recent call last):\n",
            "  File \"C:\\Users\\deept\\AppData\\Roaming\\Python\\Python39\\site-packages\\sklearn\\model_selection\\_validation.py\", line 680, in _fit_and_score\n",
            "    estimator.fit(X_train, y_train, **fit_params)\n",
            "  File \"C:\\Users\\deept\\AppData\\Roaming\\Python\\Python39\\site-packages\\sklearn\\pipeline.py\", line 394, in fit\n",
            "    self._final_estimator.fit(Xt, y, **fit_params_last_step)\n",
            "  File \"C:\\Users\\deept\\AppData\\Local\\Temp/ipykernel_8476/973144741.py\", line 414, in fit\n",
            "    self.evaluate(i, X_train, X_valid, y_train, y_valid)\n",
            "  File \"C:\\Users\\deept\\AppData\\Local\\Temp/ipykernel_8476/973144741.py\", line 331, in evaluate\n",
            "    cost = self.cost(y_train,y_train_pred)      # CHANGE IT\n",
            "  File \"C:\\Users\\deept\\AppData\\Local\\Temp/ipykernel_8476/973144741.py\", line 200, in cost\n",
            "    y_pred_enc = one_hot(y_pred)\n",
            "  File \"C:\\Users\\deept\\AppData\\Local\\Temp/ipykernel_8476/970944179.py\", line 17, in one_hot\n",
            "    out[np.arange(m), y] = 1\n",
            "IndexError: index 9 is out of bounds for axis 1 with size 9\n",
            "\n",
            "  warnings.warn(some_fits_failed_message, FitFailedWarning)\n",
            "C:\\Users\\deept\\AppData\\Roaming\\Python\\Python39\\site-packages\\sklearn\\model_selection\\_search.py:969: UserWarning: One or more of the test scores are non-finite: [    nan     nan     nan     nan     nan     nan     nan     nan     nan\n",
            " 0.85635]\n",
            "  warnings.warn(\n",
            "C:\\Users\\deept\\AppData\\Local\\Temp/ipykernel_8476/973144741.py:337: DeprecationWarning: `np.float` is a deprecated alias for the builtin `float`. To silence this warning, use `float` by itself. Doing this will not modify any behavior and is safe. If you specifically wanted the numpy scalar type, use `np.float64` here.\n",
            "Deprecated in NumPy 1.20; for more details and guidance: https://numpy.org/devdocs/release/1.20.0-notes.html#deprecations\n",
            "  train_acc = ((np.sum(y_train == y_train_pred)).astype(np.float) / X_train.shape[0])       # CHANGE IT\n",
            "C:\\Users\\deept\\AppData\\Local\\Temp/ipykernel_8476/973144741.py:338: DeprecationWarning: `np.float` is a deprecated alias for the builtin `float`. To silence this warning, use `float` by itself. Doing this will not modify any behavior and is safe. If you specifically wanted the numpy scalar type, use `np.float64` here.\n",
            "Deprecated in NumPy 1.20; for more details and guidance: https://numpy.org/devdocs/release/1.20.0-notes.html#deprecations\n",
            "  valid_acc = ((np.sum(y_valid == y_valid_pred)).astype(np.float) / X_valid.shape[0])       # CHANGE IT\n"
          ]
        },
        {
          "name": "stdout",
          "output_type": "stream",
          "text": [
            "1/10 | Cost: 117195.30 | Train/Valid Acc.: 75.77%/75.37% \n",
            "2/10 | Cost: 85977.79 | Train/Valid Acc.: 82.22%/81.87% \n",
            "3/10 | Cost: 82982.57 | Train/Valid Acc.: 82.84%/82.43% \n",
            "4/10 | Cost: 74646.75 | Train/Valid Acc.: 84.56%/84.19% \n",
            "5/10 | Cost: 70145.12 | Train/Valid Acc.: 85.50%/85.23% \n",
            "6/10 | Cost: 69822.80 | Train/Valid Acc.: 85.56%/85.58% \n",
            "7/10 | Cost: 69465.94 | Train/Valid Acc.: 85.64%/85.58% \n",
            "8/10 | Cost: 68533.41 | Train/Valid Acc.: 85.83%/85.82% \n",
            "9/10 | Cost: 71826.11 | Train/Valid Acc.: 85.15%/84.98% \n",
            "10/10 | Cost: 67232.47 | Train/Valid Acc.: 86.10%/85.99% \n",
            "Pipeline(steps=[('normalizer', Normalizer()),\n",
            "                ('classifier',\n",
            "                 FullyConnectedNetwork(epochs=10, l1=0.01, l2=0.01,\n",
            "                                       n_hidden=50))]) 0.85635\n"
          ]
        }
      ],
      "source": [
        "\n",
        "l1_values = [0.001,0.01,0.1]\n",
        "l2_values = [0.001,0.01,0.1]\n",
        "n_hidden_values = [30,50,100]\n",
        "eta_rates = [0.0001,0.0005,0.001]\n",
        "init_technique_values = ['normal', 'xavier','he']\n",
        "\n",
        "parameters = {'classifier__l1': l1_values,\n",
        "               'classifier__l2': l2_values,\n",
        "               'classifier__n_hidden': n_hidden_values,\n",
        "               'classifier__eta': eta_rates,\n",
        "               'classifier__init_technique': init_technique_values}                           # CHANGE IT\n",
        "\n",
        "\n",
        "\n",
        "grid = RandomizedSearchCV(estimator = pipe, param_distributions = parameters, cv = 3, n_iter = 10, random_state=12345)          # CHANGE IT\n",
        "grid.fit(X_train, y_train)\n",
        "\n",
        "best_classifier = grid.best_estimator_          # CHANGE IT\n",
        "best_score = grid.best_score_                   # CHANGE IT\n",
        "\n",
        "print(best_classifier, best_score)"
      ]
    },
    {
      "cell_type": "markdown",
      "metadata": {
        "id": "w9gSkzvszU1K"
      },
      "source": [
        "# END"
      ]
    }
  ],
  "metadata": {
    "colab": {
      "collapsed_sections": [],
      "name": "HW2.ipynb",
      "provenance": []
    },
    "kernelspec": {
      "display_name": "Python 3",
      "name": "python3"
    },
    "language_info": {
      "codemirror_mode": {
        "name": "ipython",
        "version": 3
      },
      "file_extension": ".py",
      "mimetype": "text/x-python",
      "name": "python",
      "nbconvert_exporter": "python",
      "pygments_lexer": "ipython3",
      "version": "3.9.7"
    }
  },
  "nbformat": 4,
  "nbformat_minor": 0
}
